{
  "cells": [
    {
      "cell_type": "markdown",
      "id": "0689733d",
      "metadata": {
        "id": "0689733d"
      },
      "source": [
        "# Retrieval\n",
        "\n",
        "Retrieval is the centerpiece of our retrieval augmented generation (RAG) flow.\n",
        "\n",
        "Let's get our vectorDB from before."
      ]
    },
    {
      "cell_type": "markdown",
      "id": "ed2569c6",
      "metadata": {
        "id": "ed2569c6"
      },
      "source": [
        "## Vectorstore retrieval\n"
      ]
    },
    {
      "cell_type": "code",
      "execution_count": null,
      "id": "51b15e5c-9b92-4d40-a149-b56335d330d9",
      "metadata": {
        "height": 185,
        "tags": [],
        "id": "51b15e5c-9b92-4d40-a149-b56335d330d9"
      },
      "outputs": [],
      "source": [
        "import os\n",
        "import openai\n",
        "import sys\n",
        "sys.path.append('../..')\n",
        "\n",
        "from dotenv import load_dotenv, find_dotenv\n",
        "_ = load_dotenv(find_dotenv()) # read local .env file\n",
        "\n",
        "openai.api_key  = os.environ['OPENAI_API_KEY']"
      ]
    },
    {
      "cell_type": "code",
      "execution_count": null,
      "id": "c18f8a7b-62af-403e-9877-18d1c2265b4f",
      "metadata": {
        "height": 30,
        "tags": [],
        "id": "c18f8a7b-62af-403e-9877-18d1c2265b4f"
      },
      "outputs": [],
      "source": [
        "#!pip install lark"
      ]
    },
    {
      "cell_type": "markdown",
      "id": "c2d552e1",
      "metadata": {
        "id": "c2d552e1"
      },
      "source": [
        "### Similarity Search"
      ]
    },
    {
      "cell_type": "code",
      "execution_count": null,
      "id": "fe368042",
      "metadata": {
        "height": 83,
        "tags": [],
        "id": "fe368042"
      },
      "outputs": [],
      "source": [
        "from langchain.vectorstores import Chroma\n",
        "from langchain.embeddings.openai import OpenAIEmbeddings\n",
        "persist_directory = 'docs/chroma/'"
      ]
    },
    {
      "cell_type": "code",
      "execution_count": null,
      "id": "a0189dc5",
      "metadata": {
        "height": 98,
        "tags": [],
        "id": "a0189dc5"
      },
      "outputs": [],
      "source": [
        "embedding = OpenAIEmbeddings()\n",
        "vectordb = Chroma(\n",
        "    persist_directory=persist_directory,\n",
        "    embedding_function=embedding\n",
        ")"
      ]
    },
    {
      "cell_type": "code",
      "execution_count": null,
      "id": "3659e0f7",
      "metadata": {
        "height": 30,
        "tags": [],
        "id": "3659e0f7",
        "outputId": "765afed1-038d-4749-c358-dd01d2e802ad"
      },
      "outputs": [
        {
          "name": "stdout",
          "output_type": "stream",
          "text": [
            "209\n"
          ]
        }
      ],
      "source": [
        "print(vectordb._collection.count())"
      ]
    },
    {
      "cell_type": "code",
      "execution_count": null,
      "id": "a807c758",
      "metadata": {
        "height": 117,
        "tags": [],
        "id": "a807c758"
      },
      "outputs": [],
      "source": [
        "texts = [\n",
        "    \"\"\"The Amanita phalloides has a large and imposing epigeous (aboveground) fruiting body (basidiocarp).\"\"\",\n",
        "    \"\"\"A mushroom with a large fruiting body is the Amanita phalloides. Some varieties are all-white.\"\"\",\n",
        "    \"\"\"A. phalloides, a.k.a Death Cap, is one of the most poisonous of all known mushrooms.\"\"\",\n",
        "]"
      ]
    },
    {
      "cell_type": "code",
      "execution_count": null,
      "id": "715d54f3",
      "metadata": {
        "height": 49,
        "tags": [],
        "id": "715d54f3"
      },
      "outputs": [],
      "source": [
        "smalldb = Chroma.from_texts(texts, embedding=embedding)"
      ]
    },
    {
      "cell_type": "code",
      "execution_count": null,
      "id": "9a37b5a5",
      "metadata": {
        "height": 49,
        "tags": [],
        "id": "9a37b5a5"
      },
      "outputs": [],
      "source": [
        "question = \"Tell me about all-white mushrooms with large fruiting bodies\""
      ]
    },
    {
      "cell_type": "code",
      "execution_count": null,
      "id": "24e3b025",
      "metadata": {
        "height": 30,
        "tags": [],
        "id": "24e3b025",
        "outputId": "f851635f-164e-48bd-e98e-9aab5536bdf8"
      },
      "outputs": [
        {
          "data": {
            "text/plain": [
              "[Document(page_content='A mushroom with a large fruiting body is the Amanita phalloides. Some varieties are all-white.', metadata={}),\n",
              " Document(page_content='The Amanita phalloides has a large and imposing epigeous (aboveground) fruiting body (basidiocarp).', metadata={})]"
            ]
          },
          "execution_count": 9,
          "metadata": {},
          "output_type": "execute_result"
        }
      ],
      "source": [
        "smalldb.similarity_search(question, k=2)"
      ]
    },
    {
      "cell_type": "code",
      "execution_count": null,
      "id": "4daa6c0d",
      "metadata": {
        "height": 49,
        "tags": [],
        "id": "4daa6c0d",
        "outputId": "98a06e69-9cda-478f-9cc3-9e56bd74dcb1"
      },
      "outputs": [
        {
          "data": {
            "text/plain": [
              "[Document(page_content='A mushroom with a large fruiting body is the Amanita phalloides. Some varieties are all-white.', metadata={}),\n",
              " Document(page_content='A. phalloides, a.k.a Death Cap, is one of the most poisonous of all known mushrooms.', metadata={})]"
            ]
          },
          "execution_count": 10,
          "metadata": {},
          "output_type": "execute_result"
        }
      ],
      "source": [
        "smalldb.max_marginal_relevance_search(question,k=2, fetch_k=3)"
      ]
    },
    {
      "cell_type": "markdown",
      "id": "5a29e8c9",
      "metadata": {
        "id": "5a29e8c9"
      },
      "source": [
        "### Addressing Diversity: Maximum marginal relevance\n",
        "\n",
        "Last class we introduced one problem: how to enforce diversity in the search results.\n",
        "\n",
        "`Maximum marginal relevance` strives to achieve both relevance to the query *and diversity* among the results."
      ]
    },
    {
      "cell_type": "code",
      "execution_count": null,
      "id": "9bb2c0a9",
      "metadata": {
        "height": 66,
        "tags": [],
        "id": "9bb2c0a9"
      },
      "outputs": [],
      "source": [
        "question = \"what did they say about matlab?\"\n",
        "docs_ss = vectordb.similarity_search(question,k=3)"
      ]
    },
    {
      "cell_type": "code",
      "execution_count": null,
      "id": "f07f8793",
      "metadata": {
        "height": 30,
        "tags": [],
        "id": "f07f8793",
        "outputId": "91dfd7ac-ce05-4a98-9e84-86b1d7bfb993"
      },
      "outputs": [
        {
          "data": {
            "text/plain": [
              "'those homeworks will be done in either MATLA B or in Octave, which is sort of — I \\nknow some people '"
            ]
          },
          "execution_count": 12,
          "metadata": {},
          "output_type": "execute_result"
        }
      ],
      "source": [
        "docs_ss[0].page_content[:100]"
      ]
    },
    {
      "cell_type": "code",
      "execution_count": null,
      "id": "e9f7e165",
      "metadata": {
        "height": 30,
        "tags": [],
        "id": "e9f7e165",
        "outputId": "a08fa8b7-22f4-4f53-b568-991cf843e4a0"
      },
      "outputs": [
        {
          "data": {
            "text/plain": [
              "'those homeworks will be done in either MATLA B or in Octave, which is sort of — I \\nknow some people '"
            ]
          },
          "execution_count": 13,
          "metadata": {},
          "output_type": "execute_result"
        }
      ],
      "source": [
        "docs_ss[1].page_content[:100]"
      ]
    },
    {
      "cell_type": "markdown",
      "id": "4c4ca1b6",
      "metadata": {
        "id": "4c4ca1b6"
      },
      "source": [
        "Note the difference in results with `MMR`."
      ]
    },
    {
      "cell_type": "code",
      "execution_count": null,
      "id": "222234c5",
      "metadata": {
        "height": 49,
        "tags": [],
        "id": "222234c5"
      },
      "outputs": [],
      "source": [
        "docs_mmr = vectordb.max_marginal_relevance_search(question,k=3)"
      ]
    },
    {
      "cell_type": "code",
      "execution_count": null,
      "id": "93b20226",
      "metadata": {
        "height": 30,
        "tags": [],
        "id": "93b20226",
        "outputId": "d0b7aab5-e8bb-4cd2-ac57-f55dcefa610c"
      },
      "outputs": [
        {
          "data": {
            "text/plain": [
              "'those homeworks will be done in either MATLA B or in Octave, which is sort of — I \\nknow some people '"
            ]
          },
          "execution_count": 15,
          "metadata": {},
          "output_type": "execute_result"
        }
      ],
      "source": [
        "docs_mmr[0].page_content[:100]"
      ]
    },
    {
      "cell_type": "code",
      "execution_count": null,
      "id": "17d39762",
      "metadata": {
        "height": 30,
        "tags": [],
        "id": "17d39762",
        "outputId": "8ca4900a-c6be-4a0d-8b41-b0f77429a787"
      },
      "outputs": [
        {
          "data": {
            "text/plain": [
              "'algorithm then? So what’s different? How come  I was making all that noise earlier about \\nleast squa'"
            ]
          },
          "execution_count": 16,
          "metadata": {},
          "output_type": "execute_result"
        }
      ],
      "source": [
        "docs_mmr[1].page_content[:100]"
      ]
    },
    {
      "cell_type": "markdown",
      "id": "b2b909bc",
      "metadata": {
        "id": "b2b909bc"
      },
      "source": [
        "### Addressing Specificity: working with metadata\n",
        "\n",
        "In last lecture, we showed that a question about the third lecture can include results from other lectures as well.\n",
        "\n",
        "To address this, many vectorstores support operations on `metadata`.\n",
        "\n",
        "`metadata` provides context for each embedded chunk."
      ]
    },
    {
      "cell_type": "code",
      "execution_count": null,
      "id": "3c1a60b2",
      "metadata": {
        "height": 49,
        "tags": [],
        "id": "3c1a60b2"
      },
      "outputs": [],
      "source": [
        "question = \"what did they say about regression in the third lecture?\""
      ]
    },
    {
      "cell_type": "code",
      "execution_count": null,
      "id": "a8612840",
      "metadata": {
        "height": 117,
        "tags": [],
        "id": "a8612840"
      },
      "outputs": [],
      "source": [
        "docs = vectordb.similarity_search(\n",
        "    question,\n",
        "    k=3,\n",
        "    filter={\"source\":\"docs/cs229_lectures/MachineLearning-Lecture03.pdf\"}\n",
        ")"
      ]
    },
    {
      "cell_type": "code",
      "execution_count": null,
      "id": "97031876",
      "metadata": {
        "height": 47,
        "tags": [],
        "id": "97031876",
        "outputId": "fd210c7a-3849-4422-ca48-d5b3a7b39c69"
      },
      "outputs": [
        {
          "name": "stdout",
          "output_type": "stream",
          "text": [
            "{'source': 'docs/cs229_lectures/MachineLearning-Lecture03.pdf', 'page': 0}\n",
            "{'source': 'docs/cs229_lectures/MachineLearning-Lecture03.pdf', 'page': 14}\n",
            "{'source': 'docs/cs229_lectures/MachineLearning-Lecture03.pdf', 'page': 4}\n"
          ]
        }
      ],
      "source": [
        "for d in docs:\n",
        "    print(d.metadata)"
      ]
    },
    {
      "cell_type": "code",
      "execution_count": null,
      "id": "2708f6ae",
      "metadata": {
        "height": 30,
        "id": "2708f6ae"
      },
      "outputs": [],
      "source": []
    },
    {
      "cell_type": "markdown",
      "id": "ccc2d784",
      "metadata": {
        "id": "ccc2d784"
      },
      "source": [
        "### Addressing Specificity: working with metadata using self-query retriever\n",
        "\n",
        "But we have an interesting challenge: we often want to infer the metadata from the query itself.\n",
        "\n",
        "To address this, we can use `SelfQueryRetriever`, which uses an LLM to extract:\n",
        "\n",
        "1. The `query` string to use for vector search\n",
        "2. A metadata filter to pass in as well\n",
        "\n",
        "Most vector databases support metadata filters, so this doesn't require any new databases or indexes."
      ]
    },
    {
      "cell_type": "code",
      "execution_count": null,
      "id": "b1d06084",
      "metadata": {
        "height": 83,
        "tags": [],
        "id": "b1d06084"
      },
      "outputs": [],
      "source": [
        "from langchain.llms import OpenAI\n",
        "from langchain.retrievers.self_query.base import SelfQueryRetriever\n",
        "from langchain.chains.query_constructor.base import AttributeInfo"
      ]
    },
    {
      "cell_type": "code",
      "execution_count": null,
      "id": "0aa5e698",
      "metadata": {
        "height": 236,
        "tags": [],
        "id": "0aa5e698"
      },
      "outputs": [],
      "source": [
        "metadata_field_info = [\n",
        "    AttributeInfo(\n",
        "        name=\"source\",\n",
        "        description=\"The lecture the chunk is from, should be one of `docs/cs229_lectures/MachineLearning-Lecture01.pdf`, `docs/cs229_lectures/MachineLearning-Lecture02.pdf`, or `docs/cs229_lectures/MachineLearning-Lecture03.pdf`\",\n",
        "        type=\"string\",\n",
        "    ),\n",
        "    AttributeInfo(\n",
        "        name=\"page\",\n",
        "        description=\"The page from the lecture\",\n",
        "        type=\"integer\",\n",
        "    ),\n",
        "]"
      ]
    },
    {
      "cell_type": "markdown",
      "id": "0e143f05-908f-463d-a9de-408526c3947f",
      "metadata": {
        "tags": [],
        "id": "0e143f05-908f-463d-a9de-408526c3947f"
      },
      "source": [
        "**Note:** The default model for `OpenAI` (\"from langchain.llms import OpenAI\") is `text-davinci-003`. Due to the deprication of OpenAI's model `text-davinci-003` on 4 January 2024, you'll be using OpenAI's recommended replacement model `gpt-3.5-turbo-instruct` instead."
      ]
    },
    {
      "cell_type": "code",
      "execution_count": null,
      "id": "fc9de693-7bdb-463e-b124-9f72163b0bd8",
      "metadata": {
        "height": 185,
        "tags": [],
        "id": "fc9de693-7bdb-463e-b124-9f72163b0bd8"
      },
      "outputs": [],
      "source": [
        "document_content_description = \"Lecture notes\"\n",
        "llm = OpenAI(model='gpt-3.5-turbo-instruct', temperature=0)\n",
        "retriever = SelfQueryRetriever.from_llm(\n",
        "    llm,\n",
        "    vectordb,\n",
        "    document_content_description,\n",
        "    metadata_field_info,\n",
        "    verbose=True\n",
        ")"
      ]
    },
    {
      "cell_type": "code",
      "execution_count": null,
      "id": "79d781b9",
      "metadata": {
        "height": 49,
        "tags": [],
        "id": "79d781b9"
      },
      "outputs": [],
      "source": [
        "question = \"what did they say about regression in the third lecture?\""
      ]
    },
    {
      "cell_type": "markdown",
      "id": "c51778b0-1fcd-40a4-bd6b-0f13fec8acb1",
      "metadata": {
        "id": "c51778b0-1fcd-40a4-bd6b-0f13fec8acb1"
      },
      "source": [
        "**You will receive a warning** about predict_and_parse being deprecated the first time you executing the next line. This can be safely ignored."
      ]
    },
    {
      "cell_type": "code",
      "execution_count": null,
      "id": "1d4f9f7d",
      "metadata": {
        "height": 49,
        "tags": [],
        "id": "1d4f9f7d",
        "outputId": "cbe58808-c03d-4eed-9069-eac1b9ef891f"
      },
      "outputs": [
        {
          "name": "stderr",
          "output_type": "stream",
          "text": [
            "/usr/local/lib/python3.9/site-packages/langchain/chains/llm.py:275: UserWarning: The predict_and_parse method is deprecated, instead pass an output parser directly to LLMChain.\n",
            "  warnings.warn(\n"
          ]
        },
        {
          "name": "stdout",
          "output_type": "stream",
          "text": [
            "query='regression' filter=Comparison(comparator=<Comparator.EQ: 'eq'>, attribute='source', value='docs/cs229_lectures/MachineLearning-Lecture03.pdf') limit=None\n"
          ]
        }
      ],
      "source": [
        "docs = retriever.get_relevant_documents(question)"
      ]
    },
    {
      "cell_type": "code",
      "execution_count": null,
      "id": "db04374e",
      "metadata": {
        "height": 47,
        "tags": [],
        "id": "db04374e",
        "outputId": "b92470e5-5b6c-4287-9382-7f4e7dd3b9c4"
      },
      "outputs": [
        {
          "name": "stdout",
          "output_type": "stream",
          "text": [
            "{'source': 'docs/cs229_lectures/MachineLearning-Lecture03.pdf', 'page': 14}\n",
            "{'source': 'docs/cs229_lectures/MachineLearning-Lecture03.pdf', 'page': 0}\n",
            "{'source': 'docs/cs229_lectures/MachineLearning-Lecture03.pdf', 'page': 10}\n",
            "{'source': 'docs/cs229_lectures/MachineLearning-Lecture03.pdf', 'page': 10}\n"
          ]
        }
      ],
      "source": [
        "for d in docs:\n",
        "    print(d.metadata)"
      ]
    },
    {
      "cell_type": "markdown",
      "id": "297b8168",
      "metadata": {
        "id": "297b8168"
      },
      "source": [
        "### Additional tricks: compression\n",
        "\n",
        "Another approach for improving the quality of retrieved docs is compression.\n",
        "\n",
        "Information most relevant to a query may be buried in a document with a lot of irrelevant text.\n",
        "\n",
        "Passing that full document through your application can lead to more expensive LLM calls and poorer responses.\n",
        "\n",
        "Contextual compression is meant to fix this."
      ]
    },
    {
      "cell_type": "code",
      "execution_count": null,
      "id": "a060cf74",
      "metadata": {
        "height": 66,
        "tags": [],
        "id": "a060cf74"
      },
      "outputs": [],
      "source": [
        "from langchain.retrievers import ContextualCompressionRetriever\n",
        "from langchain.retrievers.document_compressors import LLMChainExtractor"
      ]
    },
    {
      "cell_type": "code",
      "execution_count": null,
      "id": "038649c8",
      "metadata": {
        "height": 83,
        "tags": [],
        "id": "038649c8"
      },
      "outputs": [],
      "source": [
        "def pretty_print_docs(docs):\n",
        "    print(f\"\\n{'-' * 100}\\n\".join([f\"Document {i+1}:\\n\\n\" + d.page_content for i, d in enumerate(docs)]))\n"
      ]
    },
    {
      "cell_type": "code",
      "execution_count": null,
      "id": "fc686cf2",
      "metadata": {
        "height": 83,
        "tags": [],
        "id": "fc686cf2"
      },
      "outputs": [],
      "source": [
        "# Wrap our vectorstore\n",
        "llm = OpenAI(temperature=0, model=\"gpt-3.5-turbo-instruct\")\n",
        "compressor = LLMChainExtractor.from_llm(llm)"
      ]
    },
    {
      "cell_type": "code",
      "execution_count": null,
      "id": "82794397",
      "metadata": {
        "height": 100,
        "tags": [],
        "id": "82794397"
      },
      "outputs": [],
      "source": [
        "compression_retriever = ContextualCompressionRetriever(\n",
        "    base_compressor=compressor,\n",
        "    base_retriever=vectordb.as_retriever()\n",
        ")"
      ]
    },
    {
      "cell_type": "code",
      "execution_count": null,
      "id": "cde86848",
      "metadata": {
        "height": 83,
        "tags": [],
        "id": "cde86848",
        "outputId": "039a2c4e-ceab-43a9-b589-d295eec23dac"
      },
      "outputs": [
        {
          "name": "stdout",
          "output_type": "stream",
          "text": [
            "Document 1:\n",
            "\n",
            "- \"those homeworks will be done in either MATLA B or in Octave\"\n",
            "- \"I know some people call it a free ve rsion of MATLAB\"\n",
            "- \"MATLAB is I guess part of the programming language that makes it very easy to write codes using matrices, to write code for numerical routines, to move data around, to plot data.\"\n",
            "- \"there's also a software package called Octave that you can download for free off the Internet.\"\n",
            "- \"it has somewhat fewer features than MATLAB, but it's free, and for the purposes of this class, it will work for just about everything.\"\n",
            "- \"once a colleague of mine at a different university, not at Stanford, actually teaches another machine learning course.\"\n",
            "----------------------------------------------------------------------------------------------------\n",
            "Document 2:\n",
            "\n",
            "- \"those homeworks will be done in either MATLA B or in Octave\"\n",
            "- \"I know some people call it a free ve rsion of MATLAB\"\n",
            "- \"MATLAB is I guess part of the programming language that makes it very easy to write codes using matrices, to write code for numerical routines, to move data around, to plot data.\"\n",
            "- \"there's also a software package called Octave that you can download for free off the Internet.\"\n",
            "- \"it has somewhat fewer features than MATLAB, but it's free, and for the purposes of this class, it will work for just about everything.\"\n",
            "- \"once a colleague of mine at a different university, not at Stanford, actually teaches another machine learning course.\"\n",
            "----------------------------------------------------------------------------------------------------\n",
            "Document 3:\n",
            "\n",
            "\"Oh, it was the MATLAB.\"\n",
            "----------------------------------------------------------------------------------------------------\n",
            "Document 4:\n",
            "\n",
            "\"Oh, it was the MATLAB.\"\n"
          ]
        }
      ],
      "source": [
        "question = \"what did they say about matlab?\"\n",
        "compressed_docs = compression_retriever.get_relevant_documents(question)\n",
        "pretty_print_docs(compressed_docs)"
      ]
    },
    {
      "cell_type": "markdown",
      "id": "82c4fc4d",
      "metadata": {
        "id": "82c4fc4d"
      },
      "source": [
        "## Combining various techniques"
      ]
    },
    {
      "cell_type": "code",
      "execution_count": null,
      "id": "161ae1ad",
      "metadata": {
        "height": 100,
        "tags": [],
        "id": "161ae1ad"
      },
      "outputs": [],
      "source": [
        "compression_retriever = ContextualCompressionRetriever(\n",
        "    base_compressor=compressor,\n",
        "    base_retriever=vectordb.as_retriever(search_type = \"mmr\")\n",
        ")"
      ]
    },
    {
      "cell_type": "code",
      "execution_count": null,
      "id": "e77ccae1",
      "metadata": {
        "height": 83,
        "tags": [],
        "id": "e77ccae1",
        "outputId": "8f71b697-5713-4019-b6eb-b8303e3a6933"
      },
      "outputs": [
        {
          "name": "stdout",
          "output_type": "stream",
          "text": [
            "Document 1:\n",
            "\n",
            "- \"those homeworks will be done in either MATLA B or in Octave\"\n",
            "- \"I know some people call it a free ve rsion of MATLAB\"\n",
            "- \"MATLAB is I guess part of the programming language that makes it very easy to write codes using matrices, to write code for numerical routines, to move data around, to plot data.\"\n",
            "- \"there's also a software package called Octave that you can download for free off the Internet.\"\n",
            "- \"it has somewhat fewer features than MATLAB, but it's free, and for the purposes of this class, it will work for just about everything.\"\n",
            "- \"once a colleague of mine at a different university, not at Stanford, actually teaches another machine learning course.\"\n",
            "----------------------------------------------------------------------------------------------------\n",
            "Document 2:\n",
            "\n",
            "\"Oh, it was the MATLAB.\"\n",
            "----------------------------------------------------------------------------------------------------\n",
            "Document 3:\n",
            "\n",
            "- learning algorithms to teach a car how to drive at reasonably high speeds off roads avoiding obstacles.\n",
            "- that's a robot program med by PhD student Eva Roshen to teach a sort of somewhat strangely configured robot how to get on top of an obstacle, how to get over an obstacle.\n",
            "- So I think all of these are robots that I think are very difficult to hand-code a controller for by learning these sorts of learning algorithms.\n",
            "- Just a couple more last things, but let me just check what questions you have right now.\n",
            "- So if there are no questions, I'll just close with two reminders, which are after class today or as you start to talk with other people in this class, I just encourage you again to start to form project partners, to try to find project partners to do your project with.\n",
            "- And also, this is a good time to start forming study groups, so either talk to your friends or post in the newsgroup, but we just encourage you to try to start to do both of those today, okay? Form study groups, and try to find two other project partners.\n"
          ]
        }
      ],
      "source": [
        "question = \"what did they say about matlab?\"\n",
        "compressed_docs = compression_retriever.get_relevant_documents(question)\n",
        "pretty_print_docs(compressed_docs)"
      ]
    },
    {
      "cell_type": "markdown",
      "id": "6c2b63e1",
      "metadata": {
        "id": "6c2b63e1"
      },
      "source": [
        "## Other types of retrieval\n",
        "\n",
        "It's worth noting that vectordb as not the only kind of tool to retrieve documents.\n",
        "\n",
        "The `LangChain` retriever abstraction includes other ways to retrieve documents, such as TF-IDF or SVM."
      ]
    },
    {
      "cell_type": "code",
      "execution_count": null,
      "id": "83d2e808",
      "metadata": {
        "height": 100,
        "tags": [],
        "id": "83d2e808"
      },
      "outputs": [],
      "source": [
        "from langchain.retrievers import SVMRetriever\n",
        "from langchain.retrievers import TFIDFRetriever\n",
        "from langchain.document_loaders import PyPDFLoader\n",
        "from langchain.text_splitter import RecursiveCharacterTextSplitter"
      ]
    },
    {
      "cell_type": "code",
      "execution_count": null,
      "id": "bcf5b760",
      "metadata": {
        "height": 202,
        "tags": [],
        "id": "bcf5b760"
      },
      "outputs": [],
      "source": [
        "# Load PDF\n",
        "loader = PyPDFLoader(\"docs/cs229_lectures/MachineLearning-Lecture01.pdf\")\n",
        "pages = loader.load()\n",
        "all_page_text=[p.page_content for p in pages]\n",
        "joined_page_text=\" \".join(all_page_text)\n",
        "\n",
        "# Split\n",
        "text_splitter = RecursiveCharacterTextSplitter(chunk_size = 1500,chunk_overlap = 150)\n",
        "splits = text_splitter.split_text(joined_page_text)\n"
      ]
    },
    {
      "cell_type": "code",
      "execution_count": null,
      "id": "9bb0d781",
      "metadata": {
        "height": 83,
        "tags": [],
        "id": "9bb0d781"
      },
      "outputs": [],
      "source": [
        "# Retrieve\n",
        "svm_retriever = SVMRetriever.from_texts(splits,embedding)\n",
        "tfidf_retriever = TFIDFRetriever.from_texts(splits)"
      ]
    },
    {
      "cell_type": "code",
      "execution_count": null,
      "id": "0b1cc35f",
      "metadata": {
        "height": 83,
        "tags": [],
        "id": "0b1cc35f"
      },
      "outputs": [],
      "source": [
        "question = \"What are major topics for this class?\"\n",
        "docs_svm=svm_retriever.get_relevant_documents(question)\n",
        "docs_svm[0]"
      ]
    },
    {
      "cell_type": "code",
      "execution_count": null,
      "id": "2a1659c0",
      "metadata": {
        "height": 83,
        "tags": [],
        "id": "2a1659c0"
      },
      "outputs": [],
      "source": [
        "question = \"what did they say about the boat?\"\n",
        "docs_tfidf=tfidf_retriever.get_relevant_documents(question)\n",
        "docs_tfidf[0]"
      ]
    },
    {
      "cell_type": "code",
      "execution_count": null,
      "id": "7885389e",
      "metadata": {
        "height": 30,
        "id": "7885389e"
      },
      "outputs": [],
      "source": []
    }
  ],
  "metadata": {
    "kernelspec": {
      "display_name": "Python 3 (ipykernel)",
      "language": "python",
      "name": "python3"
    },
    "language_info": {
      "codemirror_mode": {
        "name": "ipython",
        "version": 3
      },
      "file_extension": ".py",
      "mimetype": "text/x-python",
      "name": "python",
      "nbconvert_exporter": "python",
      "pygments_lexer": "ipython3",
      "version": "3.9.19"
    },
    "colab": {
      "provenance": []
    }
  },
  "nbformat": 4,
  "nbformat_minor": 5
}